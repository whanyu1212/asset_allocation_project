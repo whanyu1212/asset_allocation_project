{
 "cells": [
  {
   "cell_type": "code",
   "execution_count": 2,
   "metadata": {},
   "outputs": [],
   "source": [
    "import pandas as pd\n",
    "import numpy as np"
   ]
  },
  {
   "cell_type": "code",
   "execution_count": 3,
   "metadata": {},
   "outputs": [],
   "source": [
    "df = pd.read_csv('../data/processed/processed_data.csv')\n",
    "df_2000 = df[df['Period'] == '2000s'].reset_index(drop=True)"
   ]
  },
  {
   "cell_type": "code",
   "execution_count": 4,
   "metadata": {},
   "outputs": [
    {
     "data": {
      "text/html": [
       "<div>\n",
       "<style scoped>\n",
       "    .dataframe tbody tr th:only-of-type {\n",
       "        vertical-align: middle;\n",
       "    }\n",
       "\n",
       "    .dataframe tbody tr th {\n",
       "        vertical-align: top;\n",
       "    }\n",
       "\n",
       "    .dataframe thead th {\n",
       "        text-align: right;\n",
       "    }\n",
       "</style>\n",
       "<table border=\"1\" class=\"dataframe\">\n",
       "  <thead>\n",
       "    <tr style=\"text-align: right;\">\n",
       "      <th></th>\n",
       "      <th>Date</th>\n",
       "      <th>U.S. 30 Day TBill TR</th>\n",
       "      <th>Russell 2000 TR</th>\n",
       "      <th>S&amp;P 500 TR</th>\n",
       "      <th>LB LT Gvt/Credit TR</th>\n",
       "      <th>MSCI EAFE TR</th>\n",
       "      <th>Period</th>\n",
       "    </tr>\n",
       "  </thead>\n",
       "  <tbody>\n",
       "    <tr>\n",
       "      <th>0</th>\n",
       "      <td>2002-01-02</td>\n",
       "      <td>0.1484</td>\n",
       "      <td>-1.105424</td>\n",
       "      <td>-1.557383</td>\n",
       "      <td>-2.2782</td>\n",
       "      <td>-5.783732</td>\n",
       "      <td>2000s</td>\n",
       "    </tr>\n",
       "    <tr>\n",
       "      <th>1</th>\n",
       "      <td>2002-02-01</td>\n",
       "      <td>0.1390</td>\n",
       "      <td>-2.844136</td>\n",
       "      <td>-2.076621</td>\n",
       "      <td>1.0098</td>\n",
       "      <td>1.201066</td>\n",
       "      <td>2000s</td>\n",
       "    </tr>\n",
       "    <tr>\n",
       "      <th>2</th>\n",
       "      <td>2002-03-01</td>\n",
       "      <td>0.1285</td>\n",
       "      <td>7.904382</td>\n",
       "      <td>3.673889</td>\n",
       "      <td>0.6827</td>\n",
       "      <td>5.582392</td>\n",
       "      <td>2000s</td>\n",
       "    </tr>\n",
       "    <tr>\n",
       "      <th>3</th>\n",
       "      <td>2002-04-01</td>\n",
       "      <td>0.1341</td>\n",
       "      <td>0.831264</td>\n",
       "      <td>-6.141762</td>\n",
       "      <td>-5.0435</td>\n",
       "      <td>1.523733</td>\n",
       "      <td>2000s</td>\n",
       "    </tr>\n",
       "    <tr>\n",
       "      <th>4</th>\n",
       "      <td>2002-05-01</td>\n",
       "      <td>0.1546</td>\n",
       "      <td>-4.543053</td>\n",
       "      <td>-0.908148</td>\n",
       "      <td>3.6252</td>\n",
       "      <td>0.533105</td>\n",
       "      <td>2000s</td>\n",
       "    </tr>\n",
       "  </tbody>\n",
       "</table>\n",
       "</div>"
      ],
      "text/plain": [
       "         Date  U.S. 30 Day TBill TR  Russell 2000 TR  S&P 500 TR   \n",
       "0  2002-01-02                0.1484        -1.105424   -1.557383  \\\n",
       "1  2002-02-01                0.1390        -2.844136   -2.076621   \n",
       "2  2002-03-01                0.1285         7.904382    3.673889   \n",
       "3  2002-04-01                0.1341         0.831264   -6.141762   \n",
       "4  2002-05-01                0.1546        -4.543053   -0.908148   \n",
       "\n",
       "   LB LT Gvt/Credit TR  MSCI EAFE TR Period  \n",
       "0              -2.2782     -5.783732  2000s  \n",
       "1               1.0098      1.201066  2000s  \n",
       "2               0.6827      5.582392  2000s  \n",
       "3              -5.0435      1.523733  2000s  \n",
       "4               3.6252      0.533105  2000s  "
      ]
     },
     "execution_count": 4,
     "metadata": {},
     "output_type": "execute_result"
    }
   ],
   "source": [
    "df_2000.head()"
   ]
  },
  {
   "cell_type": "code",
   "execution_count": 5,
   "metadata": {},
   "outputs": [
    {
     "data": {
      "text/plain": [
       "Index(['Date', 'U.S. 30 Day TBill TR', 'Russell 2000 TR', 'S&P 500 TR',\n",
       "       'LB LT Gvt/Credit TR', 'MSCI EAFE TR', 'Period'],\n",
       "      dtype='object')"
      ]
     },
     "execution_count": 5,
     "metadata": {},
     "output_type": "execute_result"
    }
   ],
   "source": [
    "df_2000.columns"
   ]
  },
  {
   "cell_type": "code",
   "execution_count": 33,
   "metadata": {},
   "outputs": [
    {
     "data": {
      "text/plain": [
       "U.S. 30 Day TBill TR     0.489856\n",
       "Russell 2000 TR         21.068986\n",
       "S&P 500 TR              15.925935\n",
       "LB LT Gvt/Credit TR     14.993268\n",
       "MSCI EAFE TR            19.403445\n",
       "dtype: float64"
      ]
     },
     "execution_count": 33,
     "metadata": {},
     "output_type": "execute_result"
    }
   ],
   "source": [
    "df_2000[['U.S. 30 Day TBill TR', 'Russell 2000 TR', 'S&P 500 TR',\n",
    "       'LB LT Gvt/Credit TR', 'MSCI EAFE TR']].std() * np.sqrt(12)"
   ]
  },
  {
   "cell_type": "code",
   "execution_count": 7,
   "metadata": {},
   "outputs": [
    {
     "data": {
      "text/html": [
       "<div>\n",
       "<style scoped>\n",
       "    .dataframe tbody tr th:only-of-type {\n",
       "        vertical-align: middle;\n",
       "    }\n",
       "\n",
       "    .dataframe tbody tr th {\n",
       "        vertical-align: top;\n",
       "    }\n",
       "\n",
       "    .dataframe thead th {\n",
       "        text-align: right;\n",
       "    }\n",
       "</style>\n",
       "<table border=\"1\" class=\"dataframe\">\n",
       "  <thead>\n",
       "    <tr style=\"text-align: right;\">\n",
       "      <th></th>\n",
       "      <th>Year</th>\n",
       "      <th>U.S. 30 Day TBill TR</th>\n",
       "      <th>Russell 2000 TR</th>\n",
       "      <th>S&amp;P 500 TR</th>\n",
       "      <th>LB LT Gvt/Credit TR</th>\n",
       "      <th>MSCI EAFE TR</th>\n",
       "    </tr>\n",
       "  </thead>\n",
       "  <tbody>\n",
       "    <tr>\n",
       "      <th>0</th>\n",
       "      <td>2002</td>\n",
       "      <td>1.6623</td>\n",
       "      <td>-21.568170</td>\n",
       "      <td>-24.351692</td>\n",
       "      <td>9.355600</td>\n",
       "      <td>-14.999577</td>\n",
       "    </tr>\n",
       "    <tr>\n",
       "      <th>1</th>\n",
       "      <td>2003</td>\n",
       "      <td>1.0383</td>\n",
       "      <td>39.168388</td>\n",
       "      <td>24.221238</td>\n",
       "      <td>4.729401</td>\n",
       "      <td>35.413283</td>\n",
       "    </tr>\n",
       "    <tr>\n",
       "      <th>2</th>\n",
       "      <td>2004</td>\n",
       "      <td>1.1099</td>\n",
       "      <td>16.773625</td>\n",
       "      <td>8.883624</td>\n",
       "      <td>7.170300</td>\n",
       "      <td>17.985116</td>\n",
       "    </tr>\n",
       "    <tr>\n",
       "      <th>3</th>\n",
       "      <td>2005</td>\n",
       "      <td>2.7751</td>\n",
       "      <td>4.231425</td>\n",
       "      <td>3.238415</td>\n",
       "      <td>9.425300</td>\n",
       "      <td>13.046591</td>\n",
       "    </tr>\n",
       "    <tr>\n",
       "      <th>4</th>\n",
       "      <td>2006</td>\n",
       "      <td>4.5961</td>\n",
       "      <td>16.638688</td>\n",
       "      <td>12.985788</td>\n",
       "      <td>5.416600</td>\n",
       "      <td>23.584398</td>\n",
       "    </tr>\n",
       "  </tbody>\n",
       "</table>\n",
       "</div>"
      ],
      "text/plain": [
       "   Year  U.S. 30 Day TBill TR  Russell 2000 TR  S&P 500 TR   \n",
       "0  2002                1.6623       -21.568170  -24.351692  \\\n",
       "1  2003                1.0383        39.168388   24.221238   \n",
       "2  2004                1.1099        16.773625    8.883624   \n",
       "3  2005                2.7751         4.231425    3.238415   \n",
       "4  2006                4.5961        16.638688   12.985788   \n",
       "\n",
       "   LB LT Gvt/Credit TR  MSCI EAFE TR  \n",
       "0             9.355600    -14.999577  \n",
       "1             4.729401     35.413283  \n",
       "2             7.170300     17.985116  \n",
       "3             9.425300     13.046591  \n",
       "4             5.416600     23.584398  "
      ]
     },
     "execution_count": 7,
     "metadata": {},
     "output_type": "execute_result"
    }
   ],
   "source": [
    "yearly_df = (\n",
    "        df_2000.drop([\"Period\"], axis=1)\n",
    "        .assign(\n",
    "            Year=lambda x: x[\"Date\"].apply(lambda x: x.split(\"-\")[0]),\n",
    "        )\n",
    "        .drop(\"Date\", axis=1)\n",
    "        .groupby(\"Year\")\n",
    "        .sum()\n",
    "        .reset_index()\n",
    "        # .drop(\"Year\", axis=1)\n",
    "    )\n",
    "yearly_df.head()"
   ]
  },
  {
   "cell_type": "code",
   "execution_count": null,
   "metadata": {},
   "outputs": [],
   "source": []
  },
  {
   "cell_type": "code",
   "execution_count": 17,
   "metadata": {},
   "outputs": [],
   "source": [
    "from scipy.stats import gmean\n",
    "def calculate_geometric_mean(dataframe):\n",
    "    # Filter only numeric columns\n",
    "    numeric_columns = dataframe.select_dtypes(include=\"number\")\n",
    "\n",
    "    # Calculate the geometric mean for each numeric column\n",
    "    geometric_means = numeric_columns.apply(gmean, axis=0)\n",
    "\n",
    "    return geometric_means"
   ]
  },
  {
   "cell_type": "code",
   "execution_count": 69,
   "metadata": {},
   "outputs": [],
   "source": [
    "def geo_mean(iterable):\n",
    "    a = np.array(iterable)\n",
    "    return a.prod()**(1.0/len(a))-1"
   ]
  },
  {
   "cell_type": "code",
   "execution_count": 70,
   "metadata": {},
   "outputs": [],
   "source": [
    "iterable = [i+1 for i in (yearly_df.drop(\"Year\",axis=1)/100)[\"Russell 2000 TR\"].tolist()]"
   ]
  },
  {
   "cell_type": "code",
   "execution_count": 72,
   "metadata": {},
   "outputs": [
    {
     "data": {
      "text/plain": [
       "[0.7843183019000001,\n",
       " 1.391683875,\n",
       " 1.1677362543,\n",
       " 1.0423142538,\n",
       " 1.166386878,\n",
       " 0.9794480694,\n",
       " 0.6200125298000001,\n",
       " 1.26664169,\n",
       " 1.254548025,\n",
       " 0.9686021248]"
      ]
     },
     "execution_count": 72,
     "metadata": {},
     "output_type": "execute_result"
    }
   ],
   "source": [
    "iterable"
   ]
  },
  {
   "cell_type": "code",
   "execution_count": 71,
   "metadata": {},
   "outputs": [
    {
     "data": {
      "text/plain": [
       "3.7740431801760677"
      ]
     },
     "execution_count": 71,
     "metadata": {},
     "output_type": "execute_result"
    }
   ],
   "source": [
    "(geo_mean(iterable))*100"
   ]
  },
  {
   "cell_type": "code",
   "execution_count": 52,
   "metadata": {},
   "outputs": [
    {
     "name": "stderr",
     "output_type": "stream",
     "text": [
      "/var/folders/h1/rvjbcw3x19dcwnv6qxb4pxrm0000gn/T/ipykernel_83442/2553112695.py:27: RuntimeWarning: invalid value encountered in double_scalars\n",
      "  cagr = ((final_value / initial_value) ** (1 / time_period)) - 1\n"
     ]
    },
    {
     "data": {
      "text/plain": [
       "U.S. 30 Day TBill TR   -31.281924\n",
       "Russell 2000 TR        -19.274701\n",
       "S&P 500 TR                    NaN\n",
       "LB LT Gvt/Credit TR     11.631494\n",
       "MSCI EAFE TR            -3.194607\n",
       "Name: Geometric Returns, dtype: float64"
      ]
     },
     "execution_count": 52,
     "metadata": {},
     "output_type": "execute_result"
    }
   ],
   "source": [
    "import pandas as pd\n",
    "\n",
    "def calculate_geometric_returns(dataframe):\n",
    "    \"\"\"\n",
    "    Calculate the geometric annual returns (CAGR) for each column (asset) in a DataFrame.\n",
    "\n",
    "    Parameters:\n",
    "    - dataframe: A Pandas DataFrame where each column represents a different asset's yearly means.\n",
    "\n",
    "    Returns:\n",
    "    - A Pandas Series containing the geometric annual returns for each asset.\n",
    "    \"\"\"\n",
    "    geometric_returns = {}\n",
    "\n",
    "    for column in dataframe.columns:\n",
    "        series = dataframe[column]\n",
    "        \n",
    "        # Check if the series has at least two data points\n",
    "        if len(series) < 2:\n",
    "            raise ValueError(f\"Column '{column}' does not have enough data points to calculate returns.\")\n",
    "        \n",
    "        initial_value = series.iloc[0]\n",
    "        final_value = series.iloc[-1]\n",
    "        time_period = len(series) - 1  # Number of years\n",
    "        \n",
    "        # Calculate the CAGR formula\n",
    "        cagr = ((final_value / initial_value) ** (1 / time_period)) - 1\n",
    "\n",
    "        # Convert CAGR to a percentage\n",
    "        cagr_percentage = cagr * 100\n",
    "\n",
    "        geometric_returns[column] = cagr_percentage\n",
    "\n",
    "    return pd.Series(geometric_returns, name=\"Geometric Returns\")\n",
    "\n",
    "calculate_geometric_returns(yearly_df.drop(\"Year\",axis=1)/100)"
   ]
  },
  {
   "cell_type": "code",
   "execution_count": 30,
   "metadata": {},
   "outputs": [
    {
     "data": {
      "text/plain": [
       "['U.S. 30 Day TBill TR',\n",
       " 'Russell 2000 TR',\n",
       " 'S&P 500 TR',\n",
       " 'LB LT Gvt/Credit TR',\n",
       " 'MSCI EAFE TR']"
      ]
     },
     "execution_count": 30,
     "metadata": {},
     "output_type": "execute_result"
    }
   ],
   "source": [
    "yearly_df.select_dtypes(include=\"number\").columns.tolist()"
   ]
  },
  {
   "cell_type": "code",
   "execution_count": 38,
   "metadata": {},
   "outputs": [
    {
     "data": {
      "text/plain": [
       "U.S. 30 Day TBill TR    1.788840\n",
       "Russell 2000 TR         6.416920\n",
       "S&P 500 TR              2.195381\n",
       "LB LT Gvt/Credit TR     9.020870\n",
       "MSCI EAFE TR            6.450622\n",
       "dtype: float64"
      ]
     },
     "execution_count": 38,
     "metadata": {},
     "output_type": "execute_result"
    }
   ],
   "source": [
    "df_2000[['U.S. 30 Day TBill TR', 'Russell 2000 TR', 'S&P 500 TR',\n",
    "       'LB LT Gvt/Credit TR', 'MSCI EAFE TR']].mean()*12"
   ]
  },
  {
   "cell_type": "code",
   "execution_count": 36,
   "metadata": {},
   "outputs": [
    {
     "data": {
      "text/plain": [
       "U.S. 30 Day TBill TR    1.788840\n",
       "Russell 2000 TR         6.416920\n",
       "S&P 500 TR              2.195381\n",
       "LB LT Gvt/Credit TR     9.020870\n",
       "MSCI EAFE TR            6.450622\n",
       "dtype: float64"
      ]
     },
     "execution_count": 36,
     "metadata": {},
     "output_type": "execute_result"
    }
   ],
   "source": [
    "yearly_df.drop(\"Year\", axis=1).mean()"
   ]
  },
  {
   "cell_type": "code",
   "execution_count": 35,
   "metadata": {},
   "outputs": [
    {
     "data": {
      "text/plain": [
       "U.S. 30 Day TBill TR     1.731645\n",
       "Russell 2000 TR         23.524448\n",
       "S&P 500 TR              21.650257\n",
       "LB LT Gvt/Credit TR      8.954625\n",
       "MSCI EAFE TR            24.801192\n",
       "dtype: float64"
      ]
     },
     "execution_count": 35,
     "metadata": {},
     "output_type": "execute_result"
    }
   ],
   "source": [
    "yearly_df.drop(\"Year\", axis=1).std()"
   ]
  },
  {
   "cell_type": "code",
   "execution_count": 32,
   "metadata": {},
   "outputs": [
    {
     "name": "stdout",
     "output_type": "stream",
     "text": [
      "0.8096632419455239\n",
      "17.76142050156194\n",
      "7.761932099510882\n",
      "9.071893450000298\n",
      "17.872236466613888\n"
     ]
    }
   ],
   "source": [
    "for i in ['U.S. 30 Day TBill TR',\n",
    " 'Russell 2000 TR',\n",
    " 'S&P 500 TR',\n",
    " 'LB LT Gvt/Credit TR',\n",
    " 'MSCI EAFE TR']:\n",
    "    \n",
    "    print(np.exp(yearly_df[i].apply(np.log).mean()))"
   ]
  },
  {
   "cell_type": "code",
   "execution_count": 16,
   "metadata": {},
   "outputs": [
    {
     "name": "stderr",
     "output_type": "stream",
     "text": [
      "/Users/hanyuwu/Library/Caches/pypoetry/virtualenvs/asset-allocation-project-ax0yMTeZ-py3.10/lib/python3.10/site-packages/scipy/stats/_stats_py.py:197: RuntimeWarning: invalid value encountered in log\n",
      "  log_a = np.log(a)\n"
     ]
    },
    {
     "data": {
      "text/plain": [
       "0          NaN\n",
       "1    11.053134\n",
       "2     7.341593\n",
       "3     5.419734\n",
       "4    10.487348\n",
       "5          NaN\n",
       "6          NaN\n",
       "7          NaN\n",
       "8     4.821103\n",
       "9          NaN\n",
       "dtype: float64"
      ]
     },
     "execution_count": 16,
     "metadata": {},
     "output_type": "execute_result"
    }
   ],
   "source": [
    "calculate_geometric_mean(yearly_df)"
   ]
  },
  {
   "cell_type": "code",
   "execution_count": 33,
   "metadata": {},
   "outputs": [
    {
     "data": {
      "text/html": [
       "<div>\n",
       "<style scoped>\n",
       "    .dataframe tbody tr th:only-of-type {\n",
       "        vertical-align: middle;\n",
       "    }\n",
       "\n",
       "    .dataframe tbody tr th {\n",
       "        vertical-align: top;\n",
       "    }\n",
       "\n",
       "    .dataframe thead th {\n",
       "        text-align: right;\n",
       "    }\n",
       "</style>\n",
       "<table border=\"1\" class=\"dataframe\">\n",
       "  <thead>\n",
       "    <tr style=\"text-align: right;\">\n",
       "      <th></th>\n",
       "      <th>Indexes</th>\n",
       "      <th>Monthly_average_return</th>\n",
       "      <th>Monthly_sd</th>\n",
       "      <th>Annualized_return</th>\n",
       "      <th>Annualized_sd</th>\n",
       "    </tr>\n",
       "  </thead>\n",
       "  <tbody>\n",
       "    <tr>\n",
       "      <th>0</th>\n",
       "      <td>LB LT Gvt/Credit TR</td>\n",
       "      <td>0.751739</td>\n",
       "      <td>4.328184</td>\n",
       "      <td>9.020870</td>\n",
       "      <td>8.954625</td>\n",
       "    </tr>\n",
       "    <tr>\n",
       "      <th>1</th>\n",
       "      <td>MSCI EAFE TR</td>\n",
       "      <td>0.537552</td>\n",
       "      <td>5.601292</td>\n",
       "      <td>6.450622</td>\n",
       "      <td>24.801192</td>\n",
       "    </tr>\n",
       "    <tr>\n",
       "      <th>2</th>\n",
       "      <td>Russell 2000 TR</td>\n",
       "      <td>0.534743</td>\n",
       "      <td>6.082092</td>\n",
       "      <td>6.416920</td>\n",
       "      <td>23.524448</td>\n",
       "    </tr>\n",
       "    <tr>\n",
       "      <th>3</th>\n",
       "      <td>S&amp;P 500 TR</td>\n",
       "      <td>0.182948</td>\n",
       "      <td>4.597421</td>\n",
       "      <td>2.195381</td>\n",
       "      <td>21.650257</td>\n",
       "    </tr>\n",
       "    <tr>\n",
       "      <th>4</th>\n",
       "      <td>U.S. 30 Day TBill TR</td>\n",
       "      <td>0.149070</td>\n",
       "      <td>0.141409</td>\n",
       "      <td>1.788840</td>\n",
       "      <td>1.731645</td>\n",
       "    </tr>\n",
       "  </tbody>\n",
       "</table>\n",
       "</div>"
      ],
      "text/plain": [
       "                Indexes  Monthly_average_return  Monthly_sd   \n",
       "0   LB LT Gvt/Credit TR                0.751739    4.328184  \\\n",
       "1          MSCI EAFE TR                0.537552    5.601292   \n",
       "2       Russell 2000 TR                0.534743    6.082092   \n",
       "3            S&P 500 TR                0.182948    4.597421   \n",
       "4  U.S. 30 Day TBill TR                0.149070    0.141409   \n",
       "\n",
       "   Annualized_return  Annualized_sd  \n",
       "0           9.020870       8.954625  \n",
       "1           6.450622      24.801192  \n",
       "2           6.416920      23.524448  \n",
       "3           2.195381      21.650257  \n",
       "4           1.788840       1.731645  "
      ]
     },
     "execution_count": 33,
     "metadata": {},
     "output_type": "execute_result"
    }
   ],
   "source": [
    "(\n",
    "    pd.melt(\n",
    "        df_2000.drop(\"Period\", axis=1),\n",
    "        id_vars=[\"Date\"],\n",
    "        var_name=\"Indexes\",\n",
    "        value_name=\"Value\",\n",
    "    )\n",
    "    .sort_values(by=[\"Date\", \"Indexes\"])\n",
    "    .groupby(\"Indexes\")\n",
    "    .agg(\n",
    "        Monthly_average_return=(\"Value\", \"mean\"),\n",
    "        Monthly_sd=(\"Value\", \"std\"),\n",
    "    )\n",
    "    .reset_index()\n",
    ").merge(\n",
    "    (\n",
    "        pd.melt(\n",
    "            yearly_df,\n",
    "            id_vars=[\"Year\"],\n",
    "            var_name=\"Indexes\",\n",
    "            value_name=\"Value\",\n",
    "        )\n",
    "        .sort_values(by=[\"Year\", \"Indexes\"])\n",
    "        .groupby(\"Indexes\")\n",
    "        .agg(\n",
    "            Annualized_return=(\"Value\", \"mean\"),\n",
    "            Annualized_sd=(\"Value\", \"std\"),\n",
    "        )\n",
    "        .reset_index()\n",
    "    ),\n",
    "    on=\"Indexes\"\n",
    ")"
   ]
  },
  {
   "cell_type": "code",
   "execution_count": 38,
   "metadata": {},
   "outputs": [
    {
     "data": {
      "text/html": [
       "<div>\n",
       "<style scoped>\n",
       "    .dataframe tbody tr th:only-of-type {\n",
       "        vertical-align: middle;\n",
       "    }\n",
       "\n",
       "    .dataframe tbody tr th {\n",
       "        vertical-align: top;\n",
       "    }\n",
       "\n",
       "    .dataframe thead th {\n",
       "        text-align: right;\n",
       "    }\n",
       "</style>\n",
       "<table border=\"1\" class=\"dataframe\">\n",
       "  <thead>\n",
       "    <tr style=\"text-align: right;\">\n",
       "      <th></th>\n",
       "      <th>Russell 2000 TR</th>\n",
       "      <th>S&amp;P 500 TR</th>\n",
       "      <th>LB LT Gvt/Credit TR</th>\n",
       "      <th>MSCI EAFE TR</th>\n",
       "    </tr>\n",
       "  </thead>\n",
       "  <tbody>\n",
       "    <tr>\n",
       "      <th>Russell 2000 TR</th>\n",
       "      <td>553.399671</td>\n",
       "      <td>489.712588</td>\n",
       "      <td>-144.029198</td>\n",
       "      <td>544.448239</td>\n",
       "    </tr>\n",
       "    <tr>\n",
       "      <th>S&amp;P 500 TR</th>\n",
       "      <td>489.712588</td>\n",
       "      <td>468.733615</td>\n",
       "      <td>-128.824340</td>\n",
       "      <td>511.428691</td>\n",
       "    </tr>\n",
       "    <tr>\n",
       "      <th>LB LT Gvt/Credit TR</th>\n",
       "      <td>-144.029198</td>\n",
       "      <td>-128.824340</td>\n",
       "      <td>80.185302</td>\n",
       "      <td>-172.997660</td>\n",
       "    </tr>\n",
       "    <tr>\n",
       "      <th>MSCI EAFE TR</th>\n",
       "      <td>544.448239</td>\n",
       "      <td>511.428691</td>\n",
       "      <td>-172.997660</td>\n",
       "      <td>615.099102</td>\n",
       "    </tr>\n",
       "  </tbody>\n",
       "</table>\n",
       "</div>"
      ],
      "text/plain": [
       "                     Russell 2000 TR  S&P 500 TR  LB LT Gvt/Credit TR   \n",
       "Russell 2000 TR           553.399671  489.712588          -144.029198  \\\n",
       "S&P 500 TR                489.712588  468.733615          -128.824340   \n",
       "LB LT Gvt/Credit TR      -144.029198 -128.824340            80.185302   \n",
       "MSCI EAFE TR              544.448239  511.428691          -172.997660   \n",
       "\n",
       "                     MSCI EAFE TR  \n",
       "Russell 2000 TR        544.448239  \n",
       "S&P 500 TR             511.428691  \n",
       "LB LT Gvt/Credit TR   -172.997660  \n",
       "MSCI EAFE TR           615.099102  "
      ]
     },
     "execution_count": 38,
     "metadata": {},
     "output_type": "execute_result"
    }
   ],
   "source": [
    "yearly_df.drop([\"Year\",\"U.S. 30 Day TBill TR\"], axis=1).cov()"
   ]
  },
  {
   "cell_type": "code",
   "execution_count": 18,
   "metadata": {},
   "outputs": [
    {
     "data": {
      "text/html": [
       "<div>\n",
       "<style scoped>\n",
       "    .dataframe tbody tr th:only-of-type {\n",
       "        vertical-align: middle;\n",
       "    }\n",
       "\n",
       "    .dataframe tbody tr th {\n",
       "        vertical-align: top;\n",
       "    }\n",
       "\n",
       "    .dataframe thead th {\n",
       "        text-align: right;\n",
       "    }\n",
       "</style>\n",
       "<table border=\"1\" class=\"dataframe\">\n",
       "  <thead>\n",
       "    <tr style=\"text-align: right;\">\n",
       "      <th></th>\n",
       "      <th>Indexes</th>\n",
       "      <th>Monthly_average_return</th>\n",
       "      <th>Monthly_sd</th>\n",
       "    </tr>\n",
       "  </thead>\n",
       "  <tbody>\n",
       "    <tr>\n",
       "      <th>0</th>\n",
       "      <td>LB LT Gvt/Credit TR</td>\n",
       "      <td>0.751739</td>\n",
       "      <td>4.328184</td>\n",
       "    </tr>\n",
       "    <tr>\n",
       "      <th>1</th>\n",
       "      <td>MSCI EAFE TR</td>\n",
       "      <td>0.537552</td>\n",
       "      <td>5.601292</td>\n",
       "    </tr>\n",
       "    <tr>\n",
       "      <th>2</th>\n",
       "      <td>Russell 2000 TR</td>\n",
       "      <td>0.534743</td>\n",
       "      <td>6.082092</td>\n",
       "    </tr>\n",
       "    <tr>\n",
       "      <th>3</th>\n",
       "      <td>S&amp;P 500 TR</td>\n",
       "      <td>0.182948</td>\n",
       "      <td>4.597421</td>\n",
       "    </tr>\n",
       "    <tr>\n",
       "      <th>4</th>\n",
       "      <td>U.S. 30 Day TBill TR</td>\n",
       "      <td>0.149070</td>\n",
       "      <td>0.141409</td>\n",
       "    </tr>\n",
       "  </tbody>\n",
       "</table>\n",
       "</div>"
      ],
      "text/plain": [
       "                Indexes  Monthly_average_return  Monthly_sd\n",
       "0   LB LT Gvt/Credit TR                0.751739    4.328184\n",
       "1          MSCI EAFE TR                0.537552    5.601292\n",
       "2       Russell 2000 TR                0.534743    6.082092\n",
       "3            S&P 500 TR                0.182948    4.597421\n",
       "4  U.S. 30 Day TBill TR                0.149070    0.141409"
      ]
     },
     "execution_count": 18,
     "metadata": {},
     "output_type": "execute_result"
    }
   ],
   "source": [
    "(\n",
    "    pd.melt(\n",
    "        df_2000.drop(\"Period\", axis=1),\n",
    "        id_vars=[\"Date\"],\n",
    "        var_name=\"Indexes\",\n",
    "        value_name=\"Value\",\n",
    "    )\n",
    "    .sort_values(by=[\"Date\", \"Indexes\"])\n",
    "    .groupby(\"Indexes\")\n",
    "    .agg(\n",
    "        Monthly_average_return=(\"Value\", \"mean\"),\n",
    "        Monthly_sd=(\"Value\", \"std\"),\n",
    "    )\n",
    "    .reset_index()\n",
    ")\n",
    "    # .reset_index()\n",
    "    # .assign(Annualized_return=lambda x: x[\"Monthly_average_return\"] * 12)\n",
    "    # .assign(Annualized_sd=lambda x: x[\"Monthly_sd\"] * 12**0.5)\n",
    "    # )"
   ]
  },
  {
   "cell_type": "code",
   "execution_count": null,
   "metadata": {},
   "outputs": [],
   "source": [
    "def generate_monthly_n_annual_stats_df(data, time_range):\n",
    "    monthly_annual_stats = (\n",
    "        pd.melt(\n",
    "            data.query(\"Period==@time_range\").drop(\"Period\", axis=1),\n",
    "            id_vars=[\"Date\"],\n",
    "            var_name=\"Indexes\",\n",
    "            value_name=\"Value\",\n",
    "        )\n",
    "        .sort_values(by=[\"Date\", \"Indexes\"])\n",
    "        .groupby(\"Indexes\")\n",
    "        .agg(\n",
    "            Monthly_average_return=(\"Value\", \"mean\"),\n",
    "            Monthly_sd=(\"Value\", \"std\"),\n",
    "        )\n",
    "        .reset_index()\n",
    "        .assign(Annualized_return=lambda x: x[\"Monthly_average_return\"] * 12)\n",
    "        .assign(Annualized_sd=lambda x: x[\"Monthly_sd\"] * 12**0.5)\n",
    "    )\n",
    "\n",
    "    st.dataframe(\n",
    "        monthly_annual_stats.style.apply(highlight_max_by_column),\n",
    "        use_container_width=True,\n",
    "        hide_index=True,\n",
    "    )"
   ]
  }
 ],
 "metadata": {
  "kernelspec": {
   "display_name": "asset-allocation-project-ax0yMTeZ-py3.11",
   "language": "python",
   "name": "python3"
  },
  "language_info": {
   "codemirror_mode": {
    "name": "ipython",
    "version": 3
   },
   "file_extension": ".py",
   "mimetype": "text/x-python",
   "name": "python",
   "nbconvert_exporter": "python",
   "pygments_lexer": "ipython3",
   "version": "3.10.4"
  },
  "orig_nbformat": 4
 },
 "nbformat": 4,
 "nbformat_minor": 2
}
