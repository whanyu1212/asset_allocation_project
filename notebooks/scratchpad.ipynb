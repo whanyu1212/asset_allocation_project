{
 "cells": [
  {
   "cell_type": "code",
   "execution_count": 1,
   "metadata": {},
   "outputs": [],
   "source": [
    "import pandas as pd\n",
    "import numpy as np"
   ]
  },
  {
   "cell_type": "code",
   "execution_count": 2,
   "metadata": {},
   "outputs": [],
   "source": [
    "df = pd.read_csv('../data/processed/processed_data.csv')\n",
    "df_2000 = df[df['Period'] == '2000s'].reset_index(drop=True)"
   ]
  },
  {
   "cell_type": "code",
   "execution_count": null,
   "metadata": {},
   "outputs": [],
   "source": [
    "df_2000.head()"
   ]
  },
  {
   "cell_type": "code",
   "execution_count": null,
   "metadata": {},
   "outputs": [],
   "source": [
    "df_2000.columns"
   ]
  },
  {
   "cell_type": "code",
   "execution_count": 3,
   "metadata": {},
   "outputs": [
    {
     "data": {
      "text/plain": [
       "U.S. 30 Day TBill TR     0.489856\n",
       "Russell 2000 TR         21.068986\n",
       "S&P 500 TR              15.925935\n",
       "LB LT Gvt/Credit TR     14.993268\n",
       "MSCI EAFE TR            19.403445\n",
       "dtype: float64"
      ]
     },
     "execution_count": 3,
     "metadata": {},
     "output_type": "execute_result"
    }
   ],
   "source": [
    "df_2000[['U.S. 30 Day TBill TR', 'Russell 2000 TR', 'S&P 500 TR',\n",
    "       'LB LT Gvt/Credit TR', 'MSCI EAFE TR']].std() * np.sqrt(12)"
   ]
  },
  {
   "cell_type": "code",
   "execution_count": 5,
   "metadata": {},
   "outputs": [
    {
     "data": {
      "text/plain": [
       "U.S. 30 Day TBill TR     1.731645\n",
       "Russell 2000 TR         23.524448\n",
       "S&P 500 TR              21.650257\n",
       "LB LT Gvt/Credit TR      8.954625\n",
       "MSCI EAFE TR            24.801192\n",
       "dtype: float64"
      ]
     },
     "execution_count": 5,
     "metadata": {},
     "output_type": "execute_result"
    }
   ],
   "source": [
    "yearly_df = (\n",
    "        df_2000.drop([\"Period\"], axis=1)\n",
    "        .assign(\n",
    "            Year=lambda x: x[\"Date\"].apply(lambda x: x.split(\"-\")[0]),\n",
    "        )\n",
    "        .drop(\"Date\", axis=1)\n",
    "        .groupby(\"Year\")\n",
    "        .sum()\n",
    "        .reset_index()\n",
    "        # .drop(\"Year\", axis=1)\n",
    "    )\n",
    "yearly_df.drop('Year',axis=1).std()"
   ]
  },
  {
   "cell_type": "code",
   "execution_count": 7,
   "metadata": {},
   "outputs": [],
   "source": [
    "from scipy.optimize import curve_fit\n",
    "y = [5.5, 8.2, 11.0, 13.9, 15.2, 17.1, 19.7, 21.3, 23.2, 24.8]\n",
    "x = [5.948933, 4.347477, 4.366947, 6.146769, 7.231461, 8.962194, 11.480154, 13.076906, 15.000884, 16.637241]"
   ]
  },
  {
   "cell_type": "code",
   "execution_count": 31,
   "metadata": {},
   "outputs": [
    {
     "data": {
      "text/html": [
       "\n",
       "<style>\n",
       "  #altair-viz-19d24fbe9c9046f3aa3ff532a70398af.vega-embed {\n",
       "    width: 100%;\n",
       "    display: flex;\n",
       "  }\n",
       "\n",
       "  #altair-viz-19d24fbe9c9046f3aa3ff532a70398af.vega-embed details,\n",
       "  #altair-viz-19d24fbe9c9046f3aa3ff532a70398af.vega-embed details summary {\n",
       "    position: relative;\n",
       "  }\n",
       "</style>\n",
       "<div id=\"altair-viz-19d24fbe9c9046f3aa3ff532a70398af\"></div>\n",
       "<script type=\"text/javascript\">\n",
       "  var VEGA_DEBUG = (typeof VEGA_DEBUG == \"undefined\") ? {} : VEGA_DEBUG;\n",
       "  (function(spec, embedOpt){\n",
       "    let outputDiv = document.currentScript.previousElementSibling;\n",
       "    if (outputDiv.id !== \"altair-viz-19d24fbe9c9046f3aa3ff532a70398af\") {\n",
       "      outputDiv = document.getElementById(\"altair-viz-19d24fbe9c9046f3aa3ff532a70398af\");\n",
       "    }\n",
       "    const paths = {\n",
       "      \"vega\": \"https://cdn.jsdelivr.net/npm/vega@5?noext\",\n",
       "      \"vega-lib\": \"https://cdn.jsdelivr.net/npm/vega-lib?noext\",\n",
       "      \"vega-lite\": \"https://cdn.jsdelivr.net/npm/vega-lite@5.14.1?noext\",\n",
       "      \"vega-embed\": \"https://cdn.jsdelivr.net/npm/vega-embed@6?noext\",\n",
       "    };\n",
       "\n",
       "    function maybeLoadScript(lib, version) {\n",
       "      var key = `${lib.replace(\"-\", \"\")}_version`;\n",
       "      return (VEGA_DEBUG[key] == version) ?\n",
       "        Promise.resolve(paths[lib]) :\n",
       "        new Promise(function(resolve, reject) {\n",
       "          var s = document.createElement('script');\n",
       "          document.getElementsByTagName(\"head\")[0].appendChild(s);\n",
       "          s.async = true;\n",
       "          s.onload = () => {\n",
       "            VEGA_DEBUG[key] = version;\n",
       "            return resolve(paths[lib]);\n",
       "          };\n",
       "          s.onerror = () => reject(`Error loading script: ${paths[lib]}`);\n",
       "          s.src = paths[lib];\n",
       "        });\n",
       "    }\n",
       "\n",
       "    function showError(err) {\n",
       "      outputDiv.innerHTML = `<div class=\"error\" style=\"color:red;\">${err}</div>`;\n",
       "      throw err;\n",
       "    }\n",
       "\n",
       "    function displayChart(vegaEmbed) {\n",
       "      vegaEmbed(outputDiv, spec, embedOpt)\n",
       "        .catch(err => showError(`Javascript Error: ${err.message}<br>This usually means there's a typo in your chart specification. See the javascript console for the full traceback.`));\n",
       "    }\n",
       "\n",
       "    if(typeof define === \"function\" && define.amd) {\n",
       "      requirejs.config({paths});\n",
       "      require([\"vega-embed\"], displayChart, err => showError(`Error loading script: ${err.message}`));\n",
       "    } else {\n",
       "      maybeLoadScript(\"vega\", \"5\")\n",
       "        .then(() => maybeLoadScript(\"vega-lite\", \"5.14.1\"))\n",
       "        .then(() => maybeLoadScript(\"vega-embed\", \"6\"))\n",
       "        .catch(showError)\n",
       "        .then(() => displayChart(vegaEmbed));\n",
       "    }\n",
       "  })({\"config\": {\"view\": {\"continuousWidth\": 300, \"continuousHeight\": 300}}, \"data\": {\"name\": \"data-86d531e9fbddb9fc1e26c1a774ec50b4\"}, \"mark\": {\"type\": \"line\", \"point\": true}, \"encoding\": {\"x\": {\"field\": \"x\", \"sort\": null, \"type\": \"quantitative\"}, \"y\": {\"field\": \"y\", \"type\": \"quantitative\"}}, \"title\": \"Line Chart with Connected Dots and Smooth Curve\", \"$schema\": \"https://vega.github.io/schema/vega-lite/v5.14.1.json\", \"datasets\": {\"data-86d531e9fbddb9fc1e26c1a774ec50b4\": [{\"x\": 5.948933, \"y\": 5.5}, {\"x\": 4.347477, \"y\": 8.2}, {\"x\": 4.366947, \"y\": 11.0}, {\"x\": 6.146769, \"y\": 13.9}, {\"x\": 7.231461, \"y\": 15.2}, {\"x\": 8.962194, \"y\": 17.1}, {\"x\": 11.480154, \"y\": 19.7}, {\"x\": 13.076906, \"y\": 21.3}, {\"x\": 15.000884, \"y\": 23.2}, {\"x\": 16.637241, \"y\": 24.8}]}}, {\"mode\": \"vega-lite\"});\n",
       "</script>"
      ],
      "text/plain": [
       "alt.Chart(...)"
      ]
     },
     "execution_count": 31,
     "metadata": {},
     "output_type": "execute_result"
    }
   ],
   "source": [
    "import numpy as np\n",
    "import pandas as pd\n",
    "import altair as alt\n",
    "\n",
    "# Your data\n",
    "data = pd.DataFrame({\n",
    "    'x': np.array([5.948933, 4.347477, 4.366947, 6.146769, 7.231461, 8.962194, 11.480154, 13.076906, 15.000884, 16.637241]),\n",
    "    'y': np.array([5.5, 8.2, 11.0, 13.9, 15.2, 17.1, 19.7, 21.3, 23.2, 24.8])\n",
    "})\n",
    "\n",
    "# Create a line chart with markers and a smooth curve\n",
    "line = alt.Chart(data).mark_line(point=True).encode(\n",
    "    x=alt.X('x', sort=None),\n",
    "    y='y'\n",
    ").properties(\n",
    "    title='Line Chart with Connected Dots and Smooth Curve'\n",
    ")\n",
    "\n",
    "# Display the plot\n",
    "line\n"
   ]
  },
  {
   "cell_type": "code",
   "execution_count": null,
   "metadata": {},
   "outputs": [],
   "source": [
    "from scipy.stats import gmean\n",
    "def calculate_geometric_mean(dataframe):\n",
    "    # Filter only numeric columns\n",
    "    numeric_columns = dataframe.select_dtypes(include=\"number\")\n",
    "\n",
    "    # Calculate the geometric mean for each numeric column\n",
    "    geometric_means = numeric_columns.apply(gmean, axis=0)\n",
    "\n",
    "    return geometric_means"
   ]
  },
  {
   "cell_type": "code",
   "execution_count": null,
   "metadata": {},
   "outputs": [],
   "source": [
    "def geo_mean(iterable):\n",
    "    a = np.array(iterable)\n",
    "    return a.prod()**(1.0/len(a))-1"
   ]
  },
  {
   "cell_type": "code",
   "execution_count": null,
   "metadata": {},
   "outputs": [],
   "source": [
    "iterable = [i+1 for i in (yearly_df.drop(\"Year\",axis=1)/100)[\"Russell 2000 TR\"].tolist()]"
   ]
  },
  {
   "cell_type": "code",
   "execution_count": null,
   "metadata": {},
   "outputs": [],
   "source": [
    "iterable"
   ]
  },
  {
   "cell_type": "code",
   "execution_count": null,
   "metadata": {},
   "outputs": [],
   "source": [
    "(geo_mean(iterable))*100"
   ]
  },
  {
   "cell_type": "code",
   "execution_count": null,
   "metadata": {},
   "outputs": [],
   "source": [
    "import pandas as pd\n",
    "\n",
    "def calculate_geometric_returns(dataframe):\n",
    "    \"\"\"\n",
    "    Calculate the geometric annual returns (CAGR) for each column (asset) in a DataFrame.\n",
    "\n",
    "    Parameters:\n",
    "    - dataframe: A Pandas DataFrame where each column represents a different asset's yearly means.\n",
    "\n",
    "    Returns:\n",
    "    - A Pandas Series containing the geometric annual returns for each asset.\n",
    "    \"\"\"\n",
    "    geometric_returns = {}\n",
    "\n",
    "    for column in dataframe.columns:\n",
    "        series = dataframe[column]\n",
    "        \n",
    "        # Check if the series has at least two data points\n",
    "        if len(series) < 2:\n",
    "            raise ValueError(f\"Column '{column}' does not have enough data points to calculate returns.\")\n",
    "        \n",
    "        initial_value = series.iloc[0]\n",
    "        final_value = series.iloc[-1]\n",
    "        time_period = len(series) - 1  # Number of years\n",
    "        \n",
    "        # Calculate the CAGR formula\n",
    "        cagr = ((final_value / initial_value) ** (1 / time_period)) - 1\n",
    "\n",
    "        # Convert CAGR to a percentage\n",
    "        cagr_percentage = cagr * 100\n",
    "\n",
    "        geometric_returns[column] = cagr_percentage\n",
    "\n",
    "    return pd.Series(geometric_returns, name=\"Geometric Returns\")\n",
    "\n",
    "calculate_geometric_returns(yearly_df.drop(\"Year\",axis=1)/100)"
   ]
  },
  {
   "cell_type": "code",
   "execution_count": null,
   "metadata": {},
   "outputs": [],
   "source": [
    "yearly_df.select_dtypes(include=\"number\").columns.tolist()"
   ]
  },
  {
   "cell_type": "code",
   "execution_count": null,
   "metadata": {},
   "outputs": [],
   "source": [
    "df_2000[['U.S. 30 Day TBill TR', 'Russell 2000 TR', 'S&P 500 TR',\n",
    "       'LB LT Gvt/Credit TR', 'MSCI EAFE TR']].mean()*12"
   ]
  },
  {
   "cell_type": "code",
   "execution_count": null,
   "metadata": {},
   "outputs": [],
   "source": [
    "yearly_df.drop(\"Year\", axis=1).mean()"
   ]
  },
  {
   "cell_type": "code",
   "execution_count": null,
   "metadata": {},
   "outputs": [],
   "source": [
    "yearly_df.drop(\"Year\", axis=1).std()"
   ]
  },
  {
   "cell_type": "code",
   "execution_count": null,
   "metadata": {},
   "outputs": [],
   "source": [
    "for i in ['U.S. 30 Day TBill TR',\n",
    " 'Russell 2000 TR',\n",
    " 'S&P 500 TR',\n",
    " 'LB LT Gvt/Credit TR',\n",
    " 'MSCI EAFE TR']:\n",
    "    \n",
    "    print(np.exp(yearly_df[i].apply(np.log).mean()))"
   ]
  },
  {
   "cell_type": "code",
   "execution_count": null,
   "metadata": {},
   "outputs": [],
   "source": [
    "calculate_geometric_mean(yearly_df)"
   ]
  },
  {
   "cell_type": "code",
   "execution_count": null,
   "metadata": {},
   "outputs": [],
   "source": [
    "(\n",
    "    pd.melt(\n",
    "        df_2000.drop(\"Period\", axis=1),\n",
    "        id_vars=[\"Date\"],\n",
    "        var_name=\"Indexes\",\n",
    "        value_name=\"Value\",\n",
    "    )\n",
    "    .sort_values(by=[\"Date\", \"Indexes\"])\n",
    "    .groupby(\"Indexes\")\n",
    "    .agg(\n",
    "        Monthly_average_return=(\"Value\", \"mean\"),\n",
    "        Monthly_sd=(\"Value\", \"std\"),\n",
    "    )\n",
    "    .reset_index()\n",
    ").merge(\n",
    "    (\n",
    "        pd.melt(\n",
    "            yearly_df,\n",
    "            id_vars=[\"Year\"],\n",
    "            var_name=\"Indexes\",\n",
    "            value_name=\"Value\",\n",
    "        )\n",
    "        .sort_values(by=[\"Year\", \"Indexes\"])\n",
    "        .groupby(\"Indexes\")\n",
    "        .agg(\n",
    "            Annualized_return=(\"Value\", \"mean\"),\n",
    "            Annualized_sd=(\"Value\", \"std\"),\n",
    "        )\n",
    "        .reset_index()\n",
    "    ),\n",
    "    on=\"Indexes\"\n",
    ")"
   ]
  },
  {
   "cell_type": "code",
   "execution_count": null,
   "metadata": {},
   "outputs": [],
   "source": [
    "yearly_df.drop([\"Year\",\"U.S. 30 Day TBill TR\"], axis=1).cov()"
   ]
  },
  {
   "cell_type": "code",
   "execution_count": null,
   "metadata": {},
   "outputs": [],
   "source": [
    "(\n",
    "    pd.melt(\n",
    "        df_2000.drop(\"Period\", axis=1),\n",
    "        id_vars=[\"Date\"],\n",
    "        var_name=\"Indexes\",\n",
    "        value_name=\"Value\",\n",
    "    )\n",
    "    .sort_values(by=[\"Date\", \"Indexes\"])\n",
    "    .groupby(\"Indexes\")\n",
    "    .agg(\n",
    "        Monthly_average_return=(\"Value\", \"mean\"),\n",
    "        Monthly_sd=(\"Value\", \"std\"),\n",
    "    )\n",
    "    .reset_index()\n",
    ")\n",
    "    # .reset_index()\n",
    "    # .assign(Annualized_return=lambda x: x[\"Monthly_average_return\"] * 12)\n",
    "    # .assign(Annualized_sd=lambda x: x[\"Monthly_sd\"] * 12**0.5)\n",
    "    # )"
   ]
  },
  {
   "cell_type": "code",
   "execution_count": null,
   "metadata": {},
   "outputs": [],
   "source": [
    "def generate_monthly_n_annual_stats_df(data, time_range):\n",
    "    monthly_annual_stats = (\n",
    "        pd.melt(\n",
    "            data.query(\"Period==@time_range\").drop(\"Period\", axis=1),\n",
    "            id_vars=[\"Date\"],\n",
    "            var_name=\"Indexes\",\n",
    "            value_name=\"Value\",\n",
    "        )\n",
    "        .sort_values(by=[\"Date\", \"Indexes\"])\n",
    "        .groupby(\"Indexes\")\n",
    "        .agg(\n",
    "            Monthly_average_return=(\"Value\", \"mean\"),\n",
    "            Monthly_sd=(\"Value\", \"std\"),\n",
    "        )\n",
    "        .reset_index()\n",
    "        .assign(Annualized_return=lambda x: x[\"Monthly_average_return\"] * 12)\n",
    "        .assign(Annualized_sd=lambda x: x[\"Monthly_sd\"] * 12**0.5)\n",
    "    )\n",
    "\n",
    "    st.dataframe(\n",
    "        monthly_annual_stats.style.apply(highlight_max_by_column),\n",
    "        use_container_width=True,\n",
    "        hide_index=True,\n",
    "    )"
   ]
  }
 ],
 "metadata": {
  "kernelspec": {
   "display_name": "asset-allocation-project-ax0yMTeZ-py3.11",
   "language": "python",
   "name": "python3"
  },
  "language_info": {
   "codemirror_mode": {
    "name": "ipython",
    "version": 3
   },
   "file_extension": ".py",
   "mimetype": "text/x-python",
   "name": "python",
   "nbconvert_exporter": "python",
   "pygments_lexer": "ipython3",
   "version": "3.10.4"
  },
  "orig_nbformat": 4
 },
 "nbformat": 4,
 "nbformat_minor": 2
}
